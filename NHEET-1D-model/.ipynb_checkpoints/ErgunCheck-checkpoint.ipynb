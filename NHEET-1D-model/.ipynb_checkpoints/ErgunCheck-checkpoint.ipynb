{
 "cells": [
  {
   "cell_type": "code",
   "execution_count": 1,
   "metadata": {},
   "outputs": [],
   "source": [
    "import numpy as np"
   ]
  },
  {
   "cell_type": "code",
   "execution_count": 2,
   "metadata": {},
   "outputs": [],
   "source": [
    "def ErgunEQ_PressureLoss(x,V0,rhof_mean,muf_mean): \n",
    "    \n",
    "    Duse = Dp*Dpcorr\n",
    "    delta_p = x*(150.*muf_mean/Duse**2.*(1-eps)**2/eps**3*V0 + 1.75*rhof_mean/Duse*(1-eps)/eps**3*V0**2)\n",
    "    #print(Duse)\n",
    "    return delta_p\n",
    "\n",
    "def Koekemoer_PressureLoss(x,V0,rhof_mean,muf_mean):    \n",
    "    k1 = 77.4\n",
    "    k2 = 2.8\n",
    "    Duse = phi*Dp*Dpcorr\n",
    "    \n",
    "    delta_p = x*(k1*muf_mean/Duse**2*(1-eps)**2/eps**3*V0 + k2*rhof_mean/Duse*(1-eps)/eps**3*V0**2)\n",
    "\n",
    "    return delta_p\n",
    "\n",
    "def Vale_PressureLoss(x,V0,rhof_mean,muf_mean):    \n",
    "    k1 = 1/335\n",
    "    k2 = 0.000125\n",
    "    Duse = phi*Dp*Dpcorr\n",
    "    \n",
    "    #delta_p = x*(k1*muf_mean/Duse**2*(1-eps)**2/eps**3*V0 + k2*rhof_mean/Duse*(1-eps)/eps**3*V0**2)\n",
    "    delta_p = x*(k1*muf_mean*V0 + k2*0.5*rhof_mean*V0**2 )/1000\n",
    "\n",
    "    return delta_p"
   ]
  },
  {
   "cell_type": "code",
   "execution_count": 3,
   "metadata": {},
   "outputs": [],
   "source": [
    "#x=0.15\n",
    "W=0.1\n",
    "L=0.15\n",
    "#V0=0.2\n",
    "p=101325\n",
    "T=300\n",
    "rhof=p/287.04/T\n",
    "muf=18.45e-6\n",
    "#Dp=0.02\n",
    "Dpcorr=1.\n",
    "eps=0.455 #uniform spheres\n",
    "#eps=0.382 #spheres distribution\n",
    "#eps=0.396 #rocks dist\n",
    "phi=1. #0.88\n",
    "A=W**2\n",
    "\n",
    "#Re=rhof*V0*Dp/muf\n",
    "#dp=ErgunEQ_PressureLoss(L,V0,rhof,muf)\n",
    "#print(dp,dp/L)\n",
    "#print(Re)\n",
    "#print(rhof)"
   ]
  },
  {
   "cell_type": "code",
   "execution_count": 4,
   "metadata": {},
   "outputs": [
    {
     "name": "stdout",
     "output_type": "stream",
     "text": [
      "8.09795918367347e-05 0.0003530710204081632 0.0007936 0.07936\n",
      "4.328481933138596e-11 5.89031783169183e-11 1.3608276348795436\n",
      "973.0 0.009048311491935487 427.6923076923076 8.09795918367347e-05 1.1937534318070235 55.821019636841534 86.54159931070438 6.5294435182896474e-09\n"
     ]
    }
   ],
   "source": [
    "Re0=973.\n",
    "Dp0=0.020*.992\n",
    "L0=0.15\n",
    "V0 = Re0*muf/(rhof*Dp0)\n",
    "#print(V0)\n",
    "c1 = L0*V0/Dp0**2\n",
    "c2 = L0*V0**2/Dp0\n",
    "#print(A,B)\n",
    "\n",
    "dx=Dp0/25\n",
    "dxmax = 0.2*dx\n",
    "nlay=3\n",
    "r1=1.4\n",
    "dx1= dxmax/r1**(nlay-1)\n",
    "Slay=dx1*(1.-r1**(nlay))/(1.-r1)\n",
    "print(dx1,Slay,dx,.008*Dp0*.5*1000)\n",
    "#print(Slay,dx1+dx1*r1+dx1*r1**2)\n",
    "#print(dx1*1.35**2,dxmax)\n",
    "#voln = dxmax*dx**2./np.sqrt(2.)\n",
    "voln = dxmax*dx*np.sqrt(dx**2-(0.5*dx)**2)*0.5\n",
    "voltet = dx**3.*np.sqrt(2.)/12.\n",
    "print(voln,voltet,voltet/voln)\n",
    "\n",
    "\n",
    "for i in range(0,1):\n",
    "    Re = Re0 +200*i\n",
    "    #Dp = Dp0*i\n",
    "    Dp=Dp0\n",
    "    V0 = Re*muf/(rhof*Dp)\n",
    "    mdot = rhof*V0*A\n",
    "    #L = A*Dp**2/V0\n",
    "    L=L0\n",
    "    #L = B*Dp/V0**2\n",
    "    dp=ErgunEQ_PressureLoss(L,V0,rhof,muf)\n",
    "    dp2=Koekemoer_PressureLoss(L,V0,rhof,muf)\n",
    "    dp3=Vale_PressureLoss(L,V0,rhof,muf)\n",
    "    #print(Dp,L,V0,dp)\n",
    "    \n",
    "    Va = V0/eps\n",
    "    Rec = rhof*Va*(0.2*Dp)/muf\n",
    "    flam = 64/Rec\n",
    "    tauw = flam*rhof*Va**2/8\n",
    "    yplus=rhof/muf*np.sqrt(tauw/rhof)*dx1\n",
    "    print(Re,mdot,Rec,dx1,yplus,dp,dp2,dp3)\n"
   ]
  },
  {
   "cell_type": "code",
   "execution_count": 11,
   "metadata": {},
   "outputs": [
    {
     "data": {
      "text/plain": [
       "1.35"
      ]
     },
     "execution_count": 11,
     "metadata": {},
     "output_type": "execute_result"
    }
   ],
   "source": []
  },
  {
   "cell_type": "code",
   "execution_count": null,
   "metadata": {},
   "outputs": [],
   "source": []
  }
 ],
 "metadata": {
  "kernelspec": {
   "display_name": "Python 3",
   "language": "python",
   "name": "python3"
  },
  "language_info": {
   "codemirror_mode": {
    "name": "ipython",
    "version": 3
   },
   "file_extension": ".py",
   "mimetype": "text/x-python",
   "name": "python",
   "nbconvert_exporter": "python",
   "pygments_lexer": "ipython3",
   "version": "3.8.8"
  }
 },
 "nbformat": 4,
 "nbformat_minor": 4
}
