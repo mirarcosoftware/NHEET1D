{
 "cells": [
  {
   "cell_type": "code",
   "execution_count": null,
   "metadata": {
    "tags": []
   },
   "outputs": [],
   "source": [
    "import numpy as np\n",
    "from NHEET_main_looper import NHEET_main\n",
    "\n",
    "#### Constant inputs\n",
    "fileName = 'Lab-Design-Test'\n",
    "inlet_bc_type=2 #0=V,1=Qcfm,2=W0 (kg/s)    \n",
    "T_inlet_method = 1 #Choose Between Two Methods: 1 = User-Defined Function, 2 = Input CSV Table\n",
    "T0 = 283.0 #[K] \n",
    "dTampin = 17. #[K] inlet temperature profile amplitude\n",
    "dlamdain = 1./12. #inlet temperature profile period (x3600s)\n",
    "Nu_method=1 #method 1=, 2=Allen2015\n",
    "CFLin = 500 #approximate CFL number at time=0\n",
    "Ndt=30 #approximate number of timesteps per period\n",
    "first_time_step_size = 10.\n",
    "Enhanced_Schumann = 0 #0=Schumann, 1=Enhanced Schmann\n",
    "time_integrator = 2 #1=Backward Euler, 2=Crank Nicholson\n",
    "rhos = 2700. #kg/m^3\n",
    "cps = 900. #J/kg-K\n",
    "ks = 3. #W/m-K\n",
    "\n",
    "const_input_vals=[fileName,inlet_bc_type,T_inlet_method,T0,dTampin,dlamdain,Nu_method,CFLin,Ndt,first_time_step_size, \\\n",
    "                  Enhanced_Schumann,time_integrator,rhos,cps,ks]\n",
    "    \n",
    "# # ##Patrick's values\n",
    "# inlet_bc_type=1 #0=V,1=Qcfm,2=W0 (kg/s)\n",
    "# T_inlet_method = 2 #Choose Between Two Methods: 1 = User-Defined Function, 2 = Input CSV Table\n",
    "# const_input_vals=[fileName,inlet_bc_type,T_inlet_method,293.15,10.,24.,1,2000,30,120,0,1,2635,790,2.6]\n",
    "\n",
    "#### Variable inputs (brackets matter)\n",
    "inlet_bcs=[0.009] #V,Qcfm,W0. Set inlet_bc_type \n",
    "#inlet_bcs=[0.003,0.006,0.009,0.012,0.015,0.018]\n",
    "Ds=[0.1]#container width\n",
    "Lfacs = [1.5] #container cylinder height factor, L=Lfac*D\n",
    "Dps =[0.02] #spherical equivalent particle diameter, m\n",
    "delDps =[0.] #distribution spread, not used\n",
    "#phis = [0.88] #sphericity\n",
    "phis = [1.]\n",
    "Dpcorrs=[1.] #particle diameter correction. ie if want d32 in Ergun's, not used\n",
    "epss = [0.455] #void fraction #uniform spheres\n",
    "#epss = [0.382] #void fraction #spheres distribution\n",
    "#epss = [0.396] #void fraction #rocks distribution\n",
    "#epss=[0.3,0.35,0.4,0.45,0.5]\n",
    "\n",
    "# inlet_bcs=[0.003,0.009,0.018]\n",
    "# epss=[0.3,0.4,0.5]\n",
    "\n",
    "# #Patrick's values\n",
    "# inlet_bcs=[525.]\n",
    "# Ds=[14*.3048]\n",
    "# Lfacs=[8./14.]\n",
    "# Dps=[0.02]\n",
    "# epss=[0.3] \n",
    "\n",
    "var_inputs = np.array([inlet_bcs,Ds,Lfacs,Dps,delDps,phis,Dpcorrs,epss])\n",
    "\n",
    "NHEET_main(const_input_vals,var_inputs)"
   ]
  }
 ],
 "metadata": {
  "kernelspec": {
   "display_name": "Python 3",
   "language": "python",
   "name": "python3"
  },
  "language_info": {
   "codemirror_mode": {
    "name": "ipython",
    "version": 3
   },
   "file_extension": ".py",
   "mimetype": "text/x-python",
   "name": "python",
   "nbconvert_exporter": "python",
   "pygments_lexer": "ipython3",
   "version": "3.7.6"
  }
 },
 "nbformat": 4,
 "nbformat_minor": 4
}
